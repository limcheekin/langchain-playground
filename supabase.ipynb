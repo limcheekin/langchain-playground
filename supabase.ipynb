{
 "cells": [
  {
   "cell_type": "code",
   "execution_count": 1,
   "metadata": {},
   "outputs": [
    {
     "name": "stdout",
     "output_type": "stream",
     "text": [
      "Note: you may need to restart the kernel to use updated packages.\n"
     ]
    }
   ],
   "source": [
    "%pip install -qU python-dotenv"
   ]
  },
  {
   "cell_type": "code",
   "execution_count": 2,
   "metadata": {},
   "outputs": [
    {
     "data": {
      "text/plain": [
       "True"
      ]
     },
     "execution_count": 2,
     "metadata": {},
     "output_type": "execute_result"
    }
   ],
   "source": [
    "import os\n",
    "from dotenv import load_dotenv\n",
    "\n",
    "load_dotenv(dotenv_path='.env_supabase')"
   ]
  },
  {
   "cell_type": "code",
   "execution_count": 3,
   "metadata": {},
   "outputs": [
    {
     "name": "stderr",
     "output_type": "stream",
     "text": [
      "2023-05-19 16:25:23,849:INFO - NumExpr defaulting to 4 threads.\n",
      "/home/limcheekin/ws/py/serverless-flutty/venv/lib/python3.10/site-packages/tqdm/auto.py:21: TqdmWarning: IProgress not found. Please update jupyter and ipywidgets. See https://ipywidgets.readthedocs.io/en/stable/user_install.html\n",
      "  from .autonotebook import tqdm as notebook_tqdm\n",
      "2023-05-19 16:25:26,880:INFO - Load pretrained SentenceTransformer: sentence-transformers/all-mpnet-base-v2\n",
      "2023-05-19 16:25:28,648:INFO - Use pytorch device: cpu\n"
     ]
    }
   ],
   "source": [
    "from supabase.client import Client, create_client\n",
    "from langchain.embeddings import HuggingFaceEmbeddings\n",
    "from langchain.vectorstores import SupabaseVectorStore\n",
    "\n",
    "supabase_url = os.environ.get(\"SUPABASE_URL\")\n",
    "supabase_key = os.environ.get(\"SUPABASE_KEY\")\n",
    "supabase: Client = create_client(supabase_url, supabase_key)\n",
    "embedding = HuggingFaceEmbeddings(model_name=\"sentence-transformers/all-mpnet-base-v2\")\n",
    "vector_store = SupabaseVectorStore(\n",
    "        client=supabase, embedding=embedding, table_name=\"documents\")\n"
   ]
  },
  {
   "cell_type": "code",
   "execution_count": 4,
   "metadata": {},
   "outputs": [],
   "source": [
    "def print_docs(docs):\n",
    "    for k, doc in enumerate(docs):\n",
    "        print(f\"\\n{k+1}) {doc.page_content}\")"
   ]
  },
  {
   "cell_type": "code",
   "execution_count": 5,
   "metadata": {},
   "outputs": [
    {
     "name": "stderr",
     "output_type": "stream",
     "text": [
      "Batches: 100%|██████████| 1/1 [00:00<00:00,  8.69it/s]\n"
     ]
    },
    {
     "name": "stdout",
     "output_type": "stream",
     "text": [
      "\n",
      "1) Introduction\n",
      "\n",
      "This page collects some common questions asked about\n",
      "Flutter. You might also check out the following\n",
      "specialized FAQs:\n",
      "\n",
      "Web FAQ\n",
      "\n",
      "Performance FAQ\n",
      "\n",
      "What is Flutter?\n",
      "\n",
      "Flutter is Google’s portable UI toolkit for crafting beautiful,\n",
      "natively compiled applications for mobile, web,\n",
      "and desktop from a single codebase.\n",
      "Flutter works with existing code,\n",
      "is used by developers and organizations around\n",
      "the world, and is free and open source.\n",
      "\n",
      "Who is Flutter for?\n",
      "\n",
      "For users, Flutter makes beautiful apps come to life.\n",
      "\n",
      "For developers, Flutter lowers the bar to entry for building apps.\n",
      "It speeds app development and reduces the cost and complexity\n",
      "of app production across platforms.\n",
      "\n",
      "For designers, Flutter provides a canvas for\n",
      "high-end user experiences. Fast Company described\n",
      "Flutter as one of the top design ideas of the decade for\n",
      "its ability to turn concepts into production code\n",
      "without the compromises imposed by typical frameworks.\n",
      "It also acts as a productive prototyping tool,\n",
      "with CodePen support for sharing your ideas with others.\n",
      "\n",
      "For engineering managers and businesses,\n",
      "Flutter allows the unification of app\n",
      "developers into a single mobile, web,\n",
      "and desktop app team, building branded\n",
      "apps for multiple platforms out of a single codebase.\n",
      "Flutter speeds feature development and synchronizes\n",
      "release schedules across the entire customer base.\n",
      "\n",
      "How much development experience do I need to use Flutter?\n",
      "\n",
      "Flutter is approachable to programmers familiar with\n",
      "object-oriented concepts (classes, methods, variables,\n",
      "etc) and imperative programming concepts (loops,\n",
      "conditionals, etc).\n",
      "\n",
      "We have seen people with very little programming\n",
      "experience learn and use Flutter for prototyping\n",
      "and app development.\n",
      "\n",
      "What kinds of apps can I build with Flutter?\n",
      "\n",
      "Flutter is designed to support mobile apps that run\n",
      "on both Android and iOS, as well as interactive apps\n",
      "that you want to run on your web pages or on the desktop.\n"
     ]
    }
   ],
   "source": [
    "retriever = vector_store.as_retriever(search_kwargs={\"k\": 1})\n",
    "docs = retriever.get_relevant_documents(\"What is Flutter?\")\n",
    "print_docs(docs)"
   ]
  },
  {
   "cell_type": "code",
   "execution_count": 6,
   "metadata": {},
   "outputs": [
    {
     "name": "stderr",
     "output_type": "stream",
     "text": [
      "Batches: 100%|██████████| 1/1 [00:00<00:00,  4.33it/s]\n"
     ]
    },
    {
     "ename": "ValueError",
     "evalue": "Number of columns in X and Y must be the same. X has shape (1, 768) and Y has shape (20, 0).",
     "output_type": "error",
     "traceback": [
      "\u001b[0;31m---------------------------------------------------------------------------\u001b[0m",
      "\u001b[0;31mValueError\u001b[0m                                Traceback (most recent call last)",
      "Cell \u001b[0;32mIn[6], line 2\u001b[0m\n\u001b[1;32m      1\u001b[0m retriever \u001b[39m=\u001b[39m vector_store\u001b[39m.\u001b[39mas_retriever(search_type\u001b[39m=\u001b[39m\u001b[39m\"\u001b[39m\u001b[39mmmr\u001b[39m\u001b[39m\"\u001b[39m, search_kwargs\u001b[39m=\u001b[39m{\u001b[39m\"\u001b[39m\u001b[39mk\u001b[39m\u001b[39m\"\u001b[39m: \u001b[39m1\u001b[39m})\n\u001b[0;32m----> 2\u001b[0m docs \u001b[39m=\u001b[39m retriever\u001b[39m.\u001b[39;49mget_relevant_documents(\u001b[39m\"\u001b[39;49m\u001b[39mWhat is Flutter?\u001b[39;49m\u001b[39m\"\u001b[39;49m)\n\u001b[1;32m      3\u001b[0m print_docs(docs)\n",
      "File \u001b[0;32m~/ws/py/serverless-flutty/venv/lib/python3.10/site-packages/langchain/vectorstores/base.py:375\u001b[0m, in \u001b[0;36mVectorStoreRetriever.get_relevant_documents\u001b[0;34m(self, query)\u001b[0m\n\u001b[1;32m    373\u001b[0m     docs \u001b[39m=\u001b[39m [doc \u001b[39mfor\u001b[39;00m doc, _ \u001b[39min\u001b[39;00m docs_and_similarities]\n\u001b[1;32m    374\u001b[0m \u001b[39melif\u001b[39;00m \u001b[39mself\u001b[39m\u001b[39m.\u001b[39msearch_type \u001b[39m==\u001b[39m \u001b[39m\"\u001b[39m\u001b[39mmmr\u001b[39m\u001b[39m\"\u001b[39m:\n\u001b[0;32m--> 375\u001b[0m     docs \u001b[39m=\u001b[39m \u001b[39mself\u001b[39;49m\u001b[39m.\u001b[39;49mvectorstore\u001b[39m.\u001b[39;49mmax_marginal_relevance_search(\n\u001b[1;32m    376\u001b[0m         query, \u001b[39m*\u001b[39;49m\u001b[39m*\u001b[39;49m\u001b[39mself\u001b[39;49m\u001b[39m.\u001b[39;49msearch_kwargs\n\u001b[1;32m    377\u001b[0m     )\n\u001b[1;32m    378\u001b[0m \u001b[39melse\u001b[39;00m:\n\u001b[1;32m    379\u001b[0m     \u001b[39mraise\u001b[39;00m \u001b[39mValueError\u001b[39;00m(\u001b[39mf\u001b[39m\u001b[39m\"\u001b[39m\u001b[39msearch_type of \u001b[39m\u001b[39m{\u001b[39;00m\u001b[39mself\u001b[39m\u001b[39m.\u001b[39msearch_type\u001b[39m}\u001b[39;00m\u001b[39m not allowed.\u001b[39m\u001b[39m\"\u001b[39m)\n",
      "File \u001b[0;32m~/ws/py/serverless-flutty/venv/lib/python3.10/site-packages/langchain/vectorstores/supabase.py:332\u001b[0m, in \u001b[0;36mSupabaseVectorStore.max_marginal_relevance_search\u001b[0;34m(self, query, k, fetch_k, lambda_mult, **kwargs)\u001b[0m\n\u001b[1;32m    284\u001b[0m \u001b[39m\u001b[39m\u001b[39m\"\"\"Return docs selected using the maximal marginal relevance.\u001b[39;00m\n\u001b[1;32m    285\u001b[0m \n\u001b[1;32m    286\u001b[0m \u001b[39mMaximal marginal relevance optimizes for similarity to query AND diversity\u001b[39;00m\n\u001b[0;32m   (...)\u001b[0m\n\u001b[1;32m    329\u001b[0m \u001b[39m$$;```\u001b[39;00m\n\u001b[1;32m    330\u001b[0m \u001b[39m\"\"\"\u001b[39;00m\n\u001b[1;32m    331\u001b[0m embedding \u001b[39m=\u001b[39m \u001b[39mself\u001b[39m\u001b[39m.\u001b[39m_embedding\u001b[39m.\u001b[39membed_documents([query])\n\u001b[0;32m--> 332\u001b[0m docs \u001b[39m=\u001b[39m \u001b[39mself\u001b[39;49m\u001b[39m.\u001b[39;49mmax_marginal_relevance_search_by_vector(\n\u001b[1;32m    333\u001b[0m     embedding[\u001b[39m0\u001b[39;49m], k, fetch_k, lambda_mult\u001b[39m=\u001b[39;49mlambda_mult\n\u001b[1;32m    334\u001b[0m )\n\u001b[1;32m    335\u001b[0m \u001b[39mreturn\u001b[39;00m docs\n",
      "File \u001b[0;32m~/ws/py/serverless-flutty/venv/lib/python3.10/site-packages/langchain/vectorstores/supabase.py:265\u001b[0m, in \u001b[0;36mSupabaseVectorStore.max_marginal_relevance_search_by_vector\u001b[0;34m(self, embedding, k, fetch_k, lambda_mult, **kwargs)\u001b[0m\n\u001b[1;32m    262\u001b[0m matched_documents \u001b[39m=\u001b[39m [doc_tuple[\u001b[39m0\u001b[39m] \u001b[39mfor\u001b[39;00m doc_tuple \u001b[39min\u001b[39;00m result]\n\u001b[1;32m    263\u001b[0m matched_embeddings \u001b[39m=\u001b[39m [doc_tuple[\u001b[39m2\u001b[39m] \u001b[39mfor\u001b[39;00m doc_tuple \u001b[39min\u001b[39;00m result]\n\u001b[0;32m--> 265\u001b[0m mmr_selected \u001b[39m=\u001b[39m maximal_marginal_relevance(\n\u001b[1;32m    266\u001b[0m     np\u001b[39m.\u001b[39;49marray([embedding], dtype\u001b[39m=\u001b[39;49mnp\u001b[39m.\u001b[39;49mfloat32),\n\u001b[1;32m    267\u001b[0m     matched_embeddings,\n\u001b[1;32m    268\u001b[0m     k\u001b[39m=\u001b[39;49mk,\n\u001b[1;32m    269\u001b[0m     lambda_mult\u001b[39m=\u001b[39;49mlambda_mult,\n\u001b[1;32m    270\u001b[0m )\n\u001b[1;32m    272\u001b[0m filtered_documents \u001b[39m=\u001b[39m [matched_documents[i] \u001b[39mfor\u001b[39;00m i \u001b[39min\u001b[39;00m mmr_selected]\n\u001b[1;32m    274\u001b[0m \u001b[39mreturn\u001b[39;00m filtered_documents\n",
      "File \u001b[0;32m~/ws/py/serverless-flutty/venv/lib/python3.10/site-packages/langchain/vectorstores/utils.py:21\u001b[0m, in \u001b[0;36mmaximal_marginal_relevance\u001b[0;34m(query_embedding, embedding_list, lambda_mult, k)\u001b[0m\n\u001b[1;32m     19\u001b[0m \u001b[39mif\u001b[39;00m query_embedding\u001b[39m.\u001b[39mndim \u001b[39m==\u001b[39m \u001b[39m1\u001b[39m:\n\u001b[1;32m     20\u001b[0m     query_embedding \u001b[39m=\u001b[39m np\u001b[39m.\u001b[39mexpand_dims(query_embedding, axis\u001b[39m=\u001b[39m\u001b[39m0\u001b[39m)\n\u001b[0;32m---> 21\u001b[0m similarity_to_query \u001b[39m=\u001b[39m cosine_similarity(query_embedding, embedding_list)[\u001b[39m0\u001b[39m]\n\u001b[1;32m     22\u001b[0m most_similar \u001b[39m=\u001b[39m \u001b[39mint\u001b[39m(np\u001b[39m.\u001b[39margmax(similarity_to_query))\n\u001b[1;32m     23\u001b[0m idxs \u001b[39m=\u001b[39m [most_similar]\n",
      "File \u001b[0;32m~/ws/py/serverless-flutty/venv/lib/python3.10/site-packages/langchain/math_utils.py:16\u001b[0m, in \u001b[0;36mcosine_similarity\u001b[0;34m(X, Y)\u001b[0m\n\u001b[1;32m     14\u001b[0m Y \u001b[39m=\u001b[39m np\u001b[39m.\u001b[39marray(Y)\n\u001b[1;32m     15\u001b[0m \u001b[39mif\u001b[39;00m X\u001b[39m.\u001b[39mshape[\u001b[39m1\u001b[39m] \u001b[39m!=\u001b[39m Y\u001b[39m.\u001b[39mshape[\u001b[39m1\u001b[39m]:\n\u001b[0;32m---> 16\u001b[0m     \u001b[39mraise\u001b[39;00m \u001b[39mValueError\u001b[39;00m(\n\u001b[1;32m     17\u001b[0m         \u001b[39mf\u001b[39m\u001b[39m\"\u001b[39m\u001b[39mNumber of columns in X and Y must be the same. X has shape \u001b[39m\u001b[39m{\u001b[39;00mX\u001b[39m.\u001b[39mshape\u001b[39m}\u001b[39;00m\u001b[39m \u001b[39m\u001b[39m\"\u001b[39m\n\u001b[1;32m     18\u001b[0m         \u001b[39mf\u001b[39m\u001b[39m\"\u001b[39m\u001b[39mand Y has shape \u001b[39m\u001b[39m{\u001b[39;00mY\u001b[39m.\u001b[39mshape\u001b[39m}\u001b[39;00m\u001b[39m.\u001b[39m\u001b[39m\"\u001b[39m\n\u001b[1;32m     19\u001b[0m     )\n\u001b[1;32m     21\u001b[0m X_norm \u001b[39m=\u001b[39m np\u001b[39m.\u001b[39mlinalg\u001b[39m.\u001b[39mnorm(X, axis\u001b[39m=\u001b[39m\u001b[39m1\u001b[39m)\n\u001b[1;32m     22\u001b[0m Y_norm \u001b[39m=\u001b[39m np\u001b[39m.\u001b[39mlinalg\u001b[39m.\u001b[39mnorm(Y, axis\u001b[39m=\u001b[39m\u001b[39m1\u001b[39m)\n",
      "\u001b[0;31mValueError\u001b[0m: Number of columns in X and Y must be the same. X has shape (1, 768) and Y has shape (20, 0)."
     ]
    }
   ],
   "source": [
    "retriever = vector_store.as_retriever(search_type=\"mmr\", search_kwargs={\"k\": 1})\n",
    "docs = retriever.get_relevant_documents(\"What is Flutter?\")\n",
    "print_docs(docs)"
   ]
  },
  {
   "cell_type": "code",
   "execution_count": null,
   "metadata": {},
   "outputs": [],
   "source": []
  }
 ],
 "metadata": {
  "kernelspec": {
   "display_name": "venv",
   "language": "python",
   "name": "python3"
  },
  "language_info": {
   "codemirror_mode": {
    "name": "ipython",
    "version": 3
   },
   "file_extension": ".py",
   "mimetype": "text/x-python",
   "name": "python",
   "nbconvert_exporter": "python",
   "pygments_lexer": "ipython3",
   "version": "3.10.6"
  },
  "orig_nbformat": 4
 },
 "nbformat": 4,
 "nbformat_minor": 2
}
