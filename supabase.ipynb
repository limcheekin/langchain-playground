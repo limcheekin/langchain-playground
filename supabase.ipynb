{
 "cells": [
  {
   "cell_type": "code",
   "execution_count": null,
   "metadata": {},
   "outputs": [],
   "source": [
    "%pip install -qU python-dotenv"
   ]
  },
  {
   "cell_type": "code",
   "execution_count": null,
   "metadata": {},
   "outputs": [],
   "source": [
    "import os\n",
    "from dotenv import load_dotenv\n",
    "\n",
    "load_dotenv()"
   ]
  },
  {
   "cell_type": "code",
   "execution_count": null,
   "metadata": {},
   "outputs": [],
   "source": [
    "from supabase.client import Client, create_client\n",
    "from langchain.embeddings import HuggingFaceEmbeddings\n",
    "from langchain.vectorstores import SupabaseVectorStore\n",
    "\n",
    "supabase_url = os.environ.get(\"SUPABASE_URL\")\n",
    "supabase_key = os.environ.get(\"SUPABASE_KEY\")\n",
    "supabase: Client = create_client(supabase_url, supabase_key)\n",
    "embedding = HuggingFaceEmbeddings(model_name=\"sentence-transformers/all-mpnet-base-v2\")\n",
    "vector_store = SupabaseVectorStore(\n",
    "        client=supabase, embedding=embedding, table_name=\"documents\", query_name=\"match_documents_embeddings\")\n"
   ]
  },
  {
   "attachments": {},
   "cell_type": "markdown",
   "metadata": {},
   "source": [
    "The following function need to be created in Supabase's public schema:"
   ]
  },
  {
   "cell_type": "code",
   "execution_count": null,
   "metadata": {
    "vscode": {
     "languageId": "sql"
    }
   },
   "outputs": [],
   "source": [
    "DROP FUNCTION match_documents_embeddings;\n",
    "CREATE FUNCTION match_documents_embeddings(query_embedding vector(768),\n",
    "                                            match_count int)\n",
    "    RETURNS TABLE(\n",
    "        id bigint,\n",
    "        content text,\n",
    "        metadata jsonb,\n",
    "        embedding vector(768),\n",
    "        similarity float)\n",
    "    LANGUAGE plpgsql\n",
    "    AS $$\n",
    "    # variable_conflict use_column\n",
    "BEGIN\n",
    "    RETURN query\n",
    "    SELECT\n",
    "        id,\n",
    "        content,\n",
    "        metadata,\n",
    "        embedding,\n",
    "        1 -(documents.embedding <=> query_embedding) AS similarity\n",
    "    FROM\n",
    "        documents\n",
    "    ORDER BY\n",
    "        documents.embedding <=> query_embedding\n",
    "    LIMIT match_count;\n",
    "END;\n",
    "$$;"
   ]
  },
  {
   "cell_type": "code",
   "execution_count": null,
   "metadata": {},
   "outputs": [],
   "source": [
    "def print_docs(docs):\n",
    "    for k, doc in enumerate(docs):\n",
    "        print(f\"\\n{k+1}) {doc.page_content}\")"
   ]
  },
  {
   "cell_type": "code",
   "execution_count": null,
   "metadata": {},
   "outputs": [],
   "source": [
    "retriever = vector_store.as_retriever(search_type=\"mmr\")\n",
    "docs = retriever.get_relevant_documents(\"What is Flutter?\")\n",
    "print_docs(docs)"
   ]
  },
  {
   "cell_type": "code",
   "execution_count": null,
   "metadata": {},
   "outputs": [],
   "source": []
  }
 ],
 "metadata": {
  "kernelspec": {
   "display_name": "venv",
   "language": "python",
   "name": "python3"
  },
  "language_info": {
   "codemirror_mode": {
    "name": "ipython",
    "version": 3
   },
   "file_extension": ".py",
   "mimetype": "text/x-python",
   "name": "python",
   "nbconvert_exporter": "python",
   "pygments_lexer": "ipython3",
   "version": "3.10.6"
  },
  "orig_nbformat": 4
 },
 "nbformat": 4,
 "nbformat_minor": 2
}
